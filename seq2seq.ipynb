{
 "cells": [
  {
   "cell_type": "code",
   "execution_count": 1,
   "metadata": {},
   "outputs": [],
   "source": [
    "import numpy as np\n",
    "import tensorflow as tf\n",
    "import pandas as pd\n",
    "import tokenization\n",
    "import collections\n",
    "import ast"
   ]
  },
  {
   "cell_type": "code",
   "execution_count": 2,
   "metadata": {},
   "outputs": [],
   "source": [
    "columns = ['character1','character2','movietitle','conversation']\n",
    "\n",
    "movie_conver = []\n",
    "with open('data/movie_conversations.txt','r') as file:\n",
    "    for l in file:\n",
    "        lines = l.split('+++$+++')\n",
    "        line_content =  eval(lines[-1].rstrip())\n",
    "        lines = [x.strip() for x in lines[:-1]]\n",
    "        lines.append(line_content)\n",
    "        movie_conver.append(lines)\n",
    "movie_conver = pd.DataFrame(movie_conver, columns=columns)"
   ]
  },
  {
   "cell_type": "code",
   "execution_count": 3,
   "metadata": {},
   "outputs": [],
   "source": [
    "columns = ['line','character_id','movietitle','character_name','text']\n",
    "\n",
    "movie_lines = []\n",
    "with open('data/movie_lines.txt','r', errors='ignore') as file:\n",
    "    for l in file:\n",
    "        lines = l.split('+++$+++')\n",
    "        lines[-1] = lines[-1].rstrip()\n",
    "        lines = [x.strip() for x in lines]\n",
    "        movie_lines.append(lines)\n",
    "movie_lines = pd.DataFrame(movie_lines, columns=columns)"
   ]
  },
  {
   "cell_type": "code",
   "execution_count": 4,
   "metadata": {},
   "outputs": [],
   "source": [
    "assert len(movie_lines['line'].unique()) == len(movie_lines['line'])\n",
    "movie_lines.set_index('line',inplace=True)"
   ]
  },
  {
   "cell_type": "code",
   "execution_count": 7,
   "metadata": {},
   "outputs": [],
   "source": [
    "class Example():\n",
    "    \n",
    "    def __init__(self,input_sentences, output_sentences):\n",
    "        \n",
    "        self.input_sentences = input_sentences\n",
    "        self.output_sentences = output_sentences\n",
    "               "
   ]
  },
  {
   "cell_type": "code",
   "execution_count": null,
   "metadata": {},
   "outputs": [],
   "source": [
    "def convert_toIndex(tokens, word_dict):\n",
    "\n",
    "    index_features = []\n",
    "    for token in tokens:\n",
    "        if not token in word_dict:\n",
    "            word_dict[token] = len(word_dict) + 1\n",
    "\n",
    "        index_features.append(word_dict[token])\n",
    "    return index_features"
   ]
  },
  {
   "cell_type": "code",
   "execution_count": null,
   "metadata": {},
   "outputs": [],
   "source": [
    "def convert_toExample(num_i, conversation, tokenizer, max_input_seq, max_output_seq, word_dict):\n",
    "#     convert text into examples\n",
    "    \n",
    "    num_convers = len(conversation)\n",
    "    for i, _ in enumerate(conversation):\n",
    "        \n",
    "        if i < num_convers - 2:\n",
    "            num_i += 1\n",
    "            \n",
    "            text_q = tokenizer.tokenize(conversation[i])\n",
    "            text_p = tokenizer.tokenize(conversation[i+1])\n",
    "            response = tokenizer.tokenize(conversation[i+2])\n",
    "            \n",
    "            input_texts = text_q + '[SEQ]' + text_p\n",
    "            input_id = convert_toIndex(input_texts, word_dict)\n",
    "            output_id = convert_toIndex(response, word_dict)\n",
    "            \n",
    "            if len(input_id) < max_input_seq:\n",
    "                input_id.extend([0] * (max_input_seq - len(input_id)))\n",
    "                \n",
    "            if len(output_id) < max_output_seq:\n",
    "                output_id.extend([0] * (max_output_seq - len(output_id)))\n",
    "                \n",
    "            input_id = input_id[:max_input_seq]\n",
    "            output_id = output_id[:max_output_seq]\n",
    "            \n",
    "            assert len(input_id) == max_input_seq\n",
    "            assert len(output_id) == max_output_seq\n",
    "            \n",
    "            if num_i % 500 == 0:\n",
    "                tf.logging.info('input text: %s' % ' '.join(input_texts))\n",
    "                tf.logging.info('input text: %s' % ' '.join(input_texts))\n",
    "                tf.logging.info('input text: %s' % ' '.join(input_texts))\n",
    "                tf.logging.info('input text: %s' % ' '.join(input_texts))\n",
    "            \n",
    "            yield num_i, Example(input_id, output_id)\n",
    "        "
   ]
  },
  {
   "cell_type": "code",
   "execution_count": 18,
   "metadata": {},
   "outputs": [],
   "source": [
    "def build_dataSet(movie_conver, movie_lines, max_input_seq, max_output_seq, tokenizer):\n",
    "    \n",
    "    data = []\n",
    "    word_dict = collections.OrderedDict()\n",
    "    num_i = 0\n",
    "    \n",
    "    for index, row in movie_conver.iterrows():\n",
    "        line_index = row['conversation']\n",
    "        conversation = movie_lines.loc[line_index,'text']\n",
    "        \n",
    "        if len(conversation) > 2:\n",
    "            for num_i, example in convert_toExample(num_i, conversation, tokenizer, max_input_seq, max_output_seq, word_dict):\n",
    "    #             input_texts, response, input_id, output_id = text_info\n",
    "                data.append(Example(input_id, output_id))\n",
    "        \n",
    "    "
   ]
  },
  {
   "cell_type": "code",
   "execution_count": 20,
   "metadata": {},
   "outputs": [
    {
     "ename": "TypeError",
     "evalue": "__init__() missing 1 required positional argument: 'vocab'",
     "output_type": "error",
     "traceback": [
      "\u001b[0;31m---------------------------------------------------------------------------\u001b[0m",
      "\u001b[0;31mTypeError\u001b[0m                                 Traceback (most recent call last)",
      "\u001b[0;32m<ipython-input-20-2aec4127644d>\u001b[0m in \u001b[0;36m<module>\u001b[0;34m\u001b[0m\n\u001b[0;32m----> 1\u001b[0;31m \u001b[0mtokenizer\u001b[0m \u001b[0;34m=\u001b[0m \u001b[0mtokenization\u001b[0m\u001b[0;34m.\u001b[0m\u001b[0mWordpieceTokenizer\u001b[0m\u001b[0;34m(\u001b[0m\u001b[0;34m)\u001b[0m\u001b[0;34m\u001b[0m\u001b[0m\n\u001b[0m\u001b[1;32m      2\u001b[0m \u001b[0;31m# build_dataSet(movie_conver, movie_lines)\u001b[0m\u001b[0;34m\u001b[0m\u001b[0;34m\u001b[0m\u001b[0m\n",
      "\u001b[0;31mTypeError\u001b[0m: __init__() missing 1 required positional argument: 'vocab'"
     ]
    }
   ],
   "source": [
    "tokenizer = tokenization.WordpieceTokenizer()\n",
    "# build_dataSet(movie_conver, movie_lines)"
   ]
  },
  {
   "cell_type": "code",
   "execution_count": null,
   "metadata": {},
   "outputs": [],
   "source": []
  }
 ],
 "metadata": {
  "kernelspec": {
   "display_name": "Python 3",
   "language": "python",
   "name": "python3"
  },
  "language_info": {
   "codemirror_mode": {
    "name": "ipython",
    "version": 3
   },
   "file_extension": ".py",
   "mimetype": "text/x-python",
   "name": "python",
   "nbconvert_exporter": "python",
   "pygments_lexer": "ipython3",
   "version": "3.5.2"
  }
 },
 "nbformat": 4,
 "nbformat_minor": 2
}
